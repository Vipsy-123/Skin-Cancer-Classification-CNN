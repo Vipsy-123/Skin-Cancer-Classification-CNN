{
 "cells": [
  {
   "cell_type": "code",
<<<<<<< HEAD
<<<<<<< HEAD
   "execution_count": 1,
=======
   "execution_count": 2,
>>>>>>> 881ebe39 (Added Transfer Learning model)
=======
   "execution_count": 1,
>>>>>>> 05124c3b (Made some changes)
   "id": "a9e91989-10d4-458a-8fe3-589ea6814010",
   "metadata": {
    "tags": []
   },
   "outputs": [],
   "source": [
    "import os"
   ]
  },
  {
   "cell_type": "code",
<<<<<<< HEAD
<<<<<<< HEAD
   "execution_count": 2,
=======
   "execution_count": 4,
>>>>>>> 881ebe39 (Added Transfer Learning model)
=======
   "execution_count": 2,
>>>>>>> 05124c3b (Made some changes)
   "id": "592f775f-4c3d-41f8-9ef6-fc2a28bb6438",
   "metadata": {
    "tags": []
   },
   "outputs": [
    {
     "name": "stdout",
     "output_type": "stream",
     "text": [
<<<<<<< HEAD
<<<<<<< HEAD
      "/home/vipul/Vipul/ML/Skin Cancer Diagnosis/Skin-Cancer-Classification-using-CNN-\n"
=======
      "/home/vipul/Vipul/ML/Skin Cancer Diagnosis/Skin-Cancer-Classification-using-CNN-/Notebooks\n"
>>>>>>> 881ebe39 (Added Transfer Learning model)
=======
      "/home/vipul/Vipul/ML/Skin Cancer Diagnosis/Skin-Cancer-Classification-using-CNN-\n"
>>>>>>> 05124c3b (Made some changes)
     ]
    }
   ],
   "source": [
    "cwd = os.getcwd()  # Get the current working directory (cwd)\n",
    "print(cwd)"
   ]
  },
  {
   "cell_type": "code",
<<<<<<< HEAD
<<<<<<< HEAD
   "execution_count": 3,
=======
   "execution_count": 1,
>>>>>>> 881ebe39 (Added Transfer Learning model)
=======
   "execution_count": 3,
>>>>>>> 05124c3b (Made some changes)
   "id": "2f15ff0b-3649-4467-a082-eaf27de4c3ca",
   "metadata": {},
   "outputs": [
    {
     "name": "stderr",
     "output_type": "stream",
     "text": [
<<<<<<< HEAD
<<<<<<< HEAD
      "2023-12-02 22:27:55.428632: I tensorflow/core/platform/cpu_feature_guard.cc:182] This TensorFlow binary is optimized to use available CPU instructions in performance-critical operations.\n",
=======
      "2023-12-02 19:54:21.366055: I tensorflow/core/platform/cpu_feature_guard.cc:182] This TensorFlow binary is optimized to use available CPU instructions in performance-critical operations.\n",
>>>>>>> 881ebe39 (Added Transfer Learning model)
=======
      "2023-12-02 22:27:55.428632: I tensorflow/core/platform/cpu_feature_guard.cc:182] This TensorFlow binary is optimized to use available CPU instructions in performance-critical operations.\n",
>>>>>>> 05124c3b (Made some changes)
      "To enable the following instructions: SSE4.1 SSE4.2 AVX AVX2 AVX_VNNI FMA, in other operations, rebuild TensorFlow with the appropriate compiler flags.\n"
     ]
    },
    {
<<<<<<< HEAD
<<<<<<< HEAD
=======
>>>>>>> 05124c3b (Made some changes)
     "name": "stdout",
     "output_type": "stream",
     "text": [
      "Found 8000 images belonging to 2 classes.\n"
     ]
    },
    {
     "name": "stderr",
     "output_type": "stream",
     "text": [
      "2023-12-02 22:27:56.730966: I tensorflow/core/common_runtime/process_util.cc:146] Creating new thread pool with default inter op setting: 2. Tune using inter_op_parallelism_threads for best performance.\n"
     ]
    },
    {
     "name": "stdout",
     "output_type": "stream",
     "text": [
      "Epoch 1/10\n"
     ]
    },
    {
     "name": "stderr",
     "output_type": "stream",
     "text": [
      "2023-12-02 22:27:57.961332: I tensorflow/core/common_runtime/executor.cc:1197] [/device:CPU:0] (DEBUG INFO) Executor start aborting (this does not indicate an error and you can ignore this message): INVALID_ARGUMENT: You must feed a value for placeholder tensor 'Placeholder/_0' with dtype int32\n",
      "\t [[{{node Placeholder/_0}}]]\n"
     ]
    },
    {
     "name": "stdout",
     "output_type": "stream",
     "text": [
      "32/32 [==============================] - ETA: 0s - loss: 1.7996 - accuracy: 0.5176Found 1000 images belonging to 2 classes.\n"
     ]
    },
    {
     "name": "stderr",
     "output_type": "stream",
     "text": [
      "2023-12-02 22:28:33.740898: I tensorflow/core/common_runtime/executor.cc:1197] [/device:CPU:0] (DEBUG INFO) Executor start aborting (this does not indicate an error and you can ignore this message): INVALID_ARGUMENT: You must feed a value for placeholder tensor 'Placeholder/_0' with dtype int32\n",
      "\t [[{{node Placeholder/_0}}]]\n"
     ]
    },
    {
     "name": "stdout",
     "output_type": "stream",
     "text": [
      "Error in generator: image file is truncated (4 bytes not processed). Skipping batch...\n",
      "32/32 [==============================] - 70s 2s/step - loss: 1.7996 - accuracy: 0.5176 - val_loss: 1.2079 - val_accuracy: 0.5080\n",
      "Epoch 2/10\n",
      "32/32 [==============================] - ETA: 0s - loss: 1.0875 - accuracy: 0.5986Error in generator: image file is truncated (4 bytes not processed). Skipping batch...\n",
      "32/32 [==============================] - 72s 2s/step - loss: 1.0875 - accuracy: 0.5986 - val_loss: 1.0626 - val_accuracy: 0.5510\n",
      "Epoch 3/10\n",
      "32/32 [==============================] - ETA: 0s - loss: 0.9384 - accuracy: 0.6338Error in generator: image file is truncated (4 bytes not processed). Skipping batch...\n",
      "32/32 [==============================] - 72s 2s/step - loss: 0.9384 - accuracy: 0.6338 - val_loss: 0.9493 - val_accuracy: 0.5580\n",
      "Epoch 4/10\n",
      "32/32 [==============================] - ETA: 0s - loss: 0.8365 - accuracy: 0.6777Error in generator: image file is truncated (4 bytes not processed). Skipping batch...\n",
      "32/32 [==============================] - 73s 2s/step - loss: 0.8365 - accuracy: 0.6777 - val_loss: 0.9406 - val_accuracy: 0.5670\n",
      "Epoch 5/10\n",
      "32/32 [==============================] - ETA: 0s - loss: 0.7510 - accuracy: 0.7051Error in generator: image file is truncated (4 bytes not processed). Skipping batch...\n",
      "32/32 [==============================] - 70s 2s/step - loss: 0.7510 - accuracy: 0.7051 - val_loss: 0.8351 - val_accuracy: 0.5680\n",
      "Epoch 6/10\n",
      "32/32 [==============================] - ETA: 0s - loss: 0.6979 - accuracy: 0.7256Error in generator: image file is truncated (4 bytes not processed). Skipping batch...\n",
      "32/32 [==============================] - 75s 2s/step - loss: 0.6979 - accuracy: 0.7256 - val_loss: 0.7824 - val_accuracy: 0.6410\n",
      "Epoch 7/10\n",
      "32/32 [==============================] - ETA: 0s - loss: 0.7004 - accuracy: 0.7266Error in generator: image file is truncated (4 bytes not processed). Skipping batch...\n",
      "32/32 [==============================] - 72s 2s/step - loss: 0.7004 - accuracy: 0.7266 - val_loss: 0.7691 - val_accuracy: 0.6400\n",
      "Epoch 8/10\n",
      "32/32 [==============================] - ETA: 0s - loss: 0.6674 - accuracy: 0.7158Error in generator: image file is truncated (4 bytes not processed). Skipping batch...\n",
      "32/32 [==============================] - 74s 2s/step - loss: 0.6674 - accuracy: 0.7158 - val_loss: 0.7950 - val_accuracy: 0.6170\n",
      "Epoch 9/10\n",
      "32/32 [==============================] - ETA: 0s - loss: 0.6391 - accuracy: 0.7314Error in generator: image file is truncated (4 bytes not processed). Skipping batch...\n",
      "32/32 [==============================] - 71s 2s/step - loss: 0.6391 - accuracy: 0.7314 - val_loss: 0.7704 - val_accuracy: 0.5730\n",
      "Epoch 10/10\n",
      "32/32 [==============================] - ETA: 0s - loss: 0.6576 - accuracy: 0.7158Error in generator: image file is truncated (4 bytes not processed). Skipping batch...\n",
      "32/32 [==============================] - 68s 2s/step - loss: 0.6576 - accuracy: 0.7158 - val_loss: 0.7441 - val_accuracy: 0.6240\n"
     ]
    },
    {
     "data": {
      "image/png": "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",
      "text/plain": [
       "<Figure size 640x480 with 1 Axes>"
      ]
     },
     "metadata": {},
     "output_type": "display_data"
    },
    {
     "data": {
      "image/png": "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",
      "text/plain": [
       "<Figure size 640x480 with 1 Axes>"
      ]
     },
     "metadata": {},
     "output_type": "display_data"
    },
    {
     "name": "stdout",
     "output_type": "stream",
     "text": [
      "Found 1010 images belonging to 2 classes.\n",
      "      1/Unknown - 0s 184ms/step"
     ]
    },
    {
     "name": "stderr",
     "output_type": "stream",
     "text": [
      "2023-12-02 22:39:56.506321: I tensorflow/core/common_runtime/executor.cc:1197] [/device:CPU:0] (DEBUG INFO) Executor start aborting (this does not indicate an error and you can ignore this message): INVALID_ARGUMENT: You must feed a value for placeholder tensor 'Placeholder/_0' with dtype int32\n",
      "\t [[{{node Placeholder/_0}}]]\n"
     ]
    },
    {
     "name": "stdout",
     "output_type": "stream",
     "text": [
      "   1200/Unknown - 1382s 1s/step"
     ]
    },
    {
     "ename": "KeyboardInterrupt",
     "evalue": "",
<<<<<<< HEAD
     "output_type": "error",
     "traceback": [
      "\u001b[0;31m---------------------------------------------------------------------------\u001b[0m",
      "\u001b[0;31mKeyboardInterrupt\u001b[0m                         Traceback (most recent call last)",
      "Cell \u001b[0;32mIn[3], line 133\u001b[0m\n\u001b[1;32m    130\u001b[0m plt\u001b[38;5;241m.\u001b[39mshow()\n\u001b[1;32m    132\u001b[0m \u001b[38;5;66;03m# Evaluate the model\u001b[39;00m\n\u001b[0;32m--> 133\u001b[0m Y_pred \u001b[38;5;241m=\u001b[39m model\u001b[38;5;241m.\u001b[39mpredict(test_generator)\n\u001b[1;32m    134\u001b[0m y_pred \u001b[38;5;241m=\u001b[39m np\u001b[38;5;241m.\u001b[39mround(Y_pred)\n\u001b[1;32m    136\u001b[0m \u001b[38;5;66;03m# Confusion Matrix\u001b[39;00m\n",
      "File \u001b[0;32m~/anaconda3/envs/tensorflow/lib/python3.11/site-packages/keras/utils/traceback_utils.py:65\u001b[0m, in \u001b[0;36mfilter_traceback.<locals>.error_handler\u001b[0;34m(*args, **kwargs)\u001b[0m\n\u001b[1;32m     63\u001b[0m filtered_tb \u001b[38;5;241m=\u001b[39m \u001b[38;5;28;01mNone\u001b[39;00m\n\u001b[1;32m     64\u001b[0m \u001b[38;5;28;01mtry\u001b[39;00m:\n\u001b[0;32m---> 65\u001b[0m     \u001b[38;5;28;01mreturn\u001b[39;00m fn(\u001b[38;5;241m*\u001b[39margs, \u001b[38;5;241m*\u001b[39m\u001b[38;5;241m*\u001b[39mkwargs)\n\u001b[1;32m     66\u001b[0m \u001b[38;5;28;01mexcept\u001b[39;00m \u001b[38;5;167;01mException\u001b[39;00m \u001b[38;5;28;01mas\u001b[39;00m e:\n\u001b[1;32m     67\u001b[0m     filtered_tb \u001b[38;5;241m=\u001b[39m _process_traceback_frames(e\u001b[38;5;241m.\u001b[39m__traceback__)\n",
      "File \u001b[0;32m~/anaconda3/envs/tensorflow/lib/python3.11/site-packages/keras/engine/training.py:2382\u001b[0m, in \u001b[0;36mModel.predict\u001b[0;34m(self, x, batch_size, verbose, steps, callbacks, max_queue_size, workers, use_multiprocessing)\u001b[0m\n\u001b[1;32m   2380\u001b[0m \u001b[38;5;28;01mfor\u001b[39;00m step \u001b[38;5;129;01min\u001b[39;00m data_handler\u001b[38;5;241m.\u001b[39msteps():\n\u001b[1;32m   2381\u001b[0m     callbacks\u001b[38;5;241m.\u001b[39mon_predict_batch_begin(step)\n\u001b[0;32m-> 2382\u001b[0m     tmp_batch_outputs \u001b[38;5;241m=\u001b[39m \u001b[38;5;28mself\u001b[39m\u001b[38;5;241m.\u001b[39mpredict_function(iterator)\n\u001b[1;32m   2383\u001b[0m     \u001b[38;5;28;01mif\u001b[39;00m data_handler\u001b[38;5;241m.\u001b[39mshould_sync:\n\u001b[1;32m   2384\u001b[0m         context\u001b[38;5;241m.\u001b[39masync_wait()\n",
      "File \u001b[0;32m~/anaconda3/envs/tensorflow/lib/python3.11/site-packages/tensorflow/python/util/traceback_utils.py:150\u001b[0m, in \u001b[0;36mfilter_traceback.<locals>.error_handler\u001b[0;34m(*args, **kwargs)\u001b[0m\n\u001b[1;32m    148\u001b[0m filtered_tb \u001b[38;5;241m=\u001b[39m \u001b[38;5;28;01mNone\u001b[39;00m\n\u001b[1;32m    149\u001b[0m \u001b[38;5;28;01mtry\u001b[39;00m:\n\u001b[0;32m--> 150\u001b[0m   \u001b[38;5;28;01mreturn\u001b[39;00m fn(\u001b[38;5;241m*\u001b[39margs, \u001b[38;5;241m*\u001b[39m\u001b[38;5;241m*\u001b[39mkwargs)\n\u001b[1;32m    151\u001b[0m \u001b[38;5;28;01mexcept\u001b[39;00m \u001b[38;5;167;01mException\u001b[39;00m \u001b[38;5;28;01mas\u001b[39;00m e:\n\u001b[1;32m    152\u001b[0m   filtered_tb \u001b[38;5;241m=\u001b[39m _process_traceback_frames(e\u001b[38;5;241m.\u001b[39m__traceback__)\n",
      "File \u001b[0;32m~/anaconda3/envs/tensorflow/lib/python3.11/site-packages/tensorflow/python/eager/polymorphic_function/polymorphic_function.py:894\u001b[0m, in \u001b[0;36mFunction.__call__\u001b[0;34m(self, *args, **kwds)\u001b[0m\n\u001b[1;32m    891\u001b[0m compiler \u001b[38;5;241m=\u001b[39m \u001b[38;5;124m\"\u001b[39m\u001b[38;5;124mxla\u001b[39m\u001b[38;5;124m\"\u001b[39m \u001b[38;5;28;01mif\u001b[39;00m \u001b[38;5;28mself\u001b[39m\u001b[38;5;241m.\u001b[39m_jit_compile \u001b[38;5;28;01melse\u001b[39;00m \u001b[38;5;124m\"\u001b[39m\u001b[38;5;124mnonXla\u001b[39m\u001b[38;5;124m\"\u001b[39m\n\u001b[1;32m    893\u001b[0m \u001b[38;5;28;01mwith\u001b[39;00m OptionalXlaContext(\u001b[38;5;28mself\u001b[39m\u001b[38;5;241m.\u001b[39m_jit_compile):\n\u001b[0;32m--> 894\u001b[0m   result \u001b[38;5;241m=\u001b[39m \u001b[38;5;28mself\u001b[39m\u001b[38;5;241m.\u001b[39m_call(\u001b[38;5;241m*\u001b[39margs, \u001b[38;5;241m*\u001b[39m\u001b[38;5;241m*\u001b[39mkwds)\n\u001b[1;32m    896\u001b[0m new_tracing_count \u001b[38;5;241m=\u001b[39m \u001b[38;5;28mself\u001b[39m\u001b[38;5;241m.\u001b[39mexperimental_get_tracing_count()\n\u001b[1;32m    897\u001b[0m without_tracing \u001b[38;5;241m=\u001b[39m (tracing_count \u001b[38;5;241m==\u001b[39m new_tracing_count)\n",
      "File \u001b[0;32m~/anaconda3/envs/tensorflow/lib/python3.11/site-packages/tensorflow/python/eager/polymorphic_function/polymorphic_function.py:933\u001b[0m, in \u001b[0;36mFunction._call\u001b[0;34m(self, *args, **kwds)\u001b[0m\n\u001b[1;32m    930\u001b[0m \u001b[38;5;28mself\u001b[39m\u001b[38;5;241m.\u001b[39m_lock\u001b[38;5;241m.\u001b[39mrelease()\n\u001b[1;32m    931\u001b[0m \u001b[38;5;66;03m# In this case we have not created variables on the first call. So we can\u001b[39;00m\n\u001b[1;32m    932\u001b[0m \u001b[38;5;66;03m# run the first trace but we should fail if variables are created.\u001b[39;00m\n\u001b[0;32m--> 933\u001b[0m results \u001b[38;5;241m=\u001b[39m \u001b[38;5;28mself\u001b[39m\u001b[38;5;241m.\u001b[39m_variable_creation_fn(\u001b[38;5;241m*\u001b[39margs, \u001b[38;5;241m*\u001b[39m\u001b[38;5;241m*\u001b[39mkwds)\n\u001b[1;32m    934\u001b[0m \u001b[38;5;28;01mif\u001b[39;00m \u001b[38;5;28mself\u001b[39m\u001b[38;5;241m.\u001b[39m_created_variables \u001b[38;5;129;01mand\u001b[39;00m \u001b[38;5;129;01mnot\u001b[39;00m ALLOW_DYNAMIC_VARIABLE_CREATION:\n\u001b[1;32m    935\u001b[0m   \u001b[38;5;28;01mraise\u001b[39;00m \u001b[38;5;167;01mValueError\u001b[39;00m(\u001b[38;5;124m\"\u001b[39m\u001b[38;5;124mCreating variables on a non-first call to a function\u001b[39m\u001b[38;5;124m\"\u001b[39m\n\u001b[1;32m    936\u001b[0m                    \u001b[38;5;124m\"\u001b[39m\u001b[38;5;124m decorated with tf.function.\u001b[39m\u001b[38;5;124m\"\u001b[39m)\n",
      "File \u001b[0;32m~/anaconda3/envs/tensorflow/lib/python3.11/site-packages/tensorflow/python/eager/polymorphic_function/tracing_compiler.py:143\u001b[0m, in \u001b[0;36mTracingCompiler.__call__\u001b[0;34m(self, *args, **kwargs)\u001b[0m\n\u001b[1;32m    140\u001b[0m \u001b[38;5;28;01mwith\u001b[39;00m \u001b[38;5;28mself\u001b[39m\u001b[38;5;241m.\u001b[39m_lock:\n\u001b[1;32m    141\u001b[0m   (concrete_function,\n\u001b[1;32m    142\u001b[0m    filtered_flat_args) \u001b[38;5;241m=\u001b[39m \u001b[38;5;28mself\u001b[39m\u001b[38;5;241m.\u001b[39m_maybe_define_function(args, kwargs)\n\u001b[0;32m--> 143\u001b[0m \u001b[38;5;28;01mreturn\u001b[39;00m concrete_function\u001b[38;5;241m.\u001b[39m_call_flat(\n\u001b[1;32m    144\u001b[0m     filtered_flat_args, captured_inputs\u001b[38;5;241m=\u001b[39mconcrete_function\u001b[38;5;241m.\u001b[39mcaptured_inputs)\n",
      "File \u001b[0;32m~/anaconda3/envs/tensorflow/lib/python3.11/site-packages/tensorflow/python/eager/polymorphic_function/monomorphic_function.py:1757\u001b[0m, in \u001b[0;36mConcreteFunction._call_flat\u001b[0;34m(self, args, captured_inputs, cancellation_manager)\u001b[0m\n\u001b[1;32m   1753\u001b[0m possible_gradient_type \u001b[38;5;241m=\u001b[39m gradients_util\u001b[38;5;241m.\u001b[39mPossibleTapeGradientTypes(args)\n\u001b[1;32m   1754\u001b[0m \u001b[38;5;28;01mif\u001b[39;00m (possible_gradient_type \u001b[38;5;241m==\u001b[39m gradients_util\u001b[38;5;241m.\u001b[39mPOSSIBLE_GRADIENT_TYPES_NONE\n\u001b[1;32m   1755\u001b[0m     \u001b[38;5;129;01mand\u001b[39;00m executing_eagerly):\n\u001b[1;32m   1756\u001b[0m   \u001b[38;5;66;03m# No tape is watching; skip to running the function.\u001b[39;00m\n\u001b[0;32m-> 1757\u001b[0m   \u001b[38;5;28;01mreturn\u001b[39;00m \u001b[38;5;28mself\u001b[39m\u001b[38;5;241m.\u001b[39m_build_call_outputs(\u001b[38;5;28mself\u001b[39m\u001b[38;5;241m.\u001b[39m_inference_function\u001b[38;5;241m.\u001b[39mcall(\n\u001b[1;32m   1758\u001b[0m       ctx, args, cancellation_manager\u001b[38;5;241m=\u001b[39mcancellation_manager))\n\u001b[1;32m   1759\u001b[0m forward_backward \u001b[38;5;241m=\u001b[39m \u001b[38;5;28mself\u001b[39m\u001b[38;5;241m.\u001b[39m_select_forward_and_backward_functions(\n\u001b[1;32m   1760\u001b[0m     args,\n\u001b[1;32m   1761\u001b[0m     possible_gradient_type,\n\u001b[1;32m   1762\u001b[0m     executing_eagerly)\n\u001b[1;32m   1763\u001b[0m forward_function, args_with_tangents \u001b[38;5;241m=\u001b[39m forward_backward\u001b[38;5;241m.\u001b[39mforward()\n",
      "File \u001b[0;32m~/anaconda3/envs/tensorflow/lib/python3.11/site-packages/tensorflow/python/eager/polymorphic_function/monomorphic_function.py:381\u001b[0m, in \u001b[0;36m_EagerDefinedFunction.call\u001b[0;34m(self, ctx, args, cancellation_manager)\u001b[0m\n\u001b[1;32m    379\u001b[0m \u001b[38;5;28;01mwith\u001b[39;00m _InterpolateFunctionError(\u001b[38;5;28mself\u001b[39m):\n\u001b[1;32m    380\u001b[0m   \u001b[38;5;28;01mif\u001b[39;00m cancellation_manager \u001b[38;5;129;01mis\u001b[39;00m \u001b[38;5;28;01mNone\u001b[39;00m:\n\u001b[0;32m--> 381\u001b[0m     outputs \u001b[38;5;241m=\u001b[39m execute\u001b[38;5;241m.\u001b[39mexecute(\n\u001b[1;32m    382\u001b[0m         \u001b[38;5;28mstr\u001b[39m(\u001b[38;5;28mself\u001b[39m\u001b[38;5;241m.\u001b[39msignature\u001b[38;5;241m.\u001b[39mname),\n\u001b[1;32m    383\u001b[0m         num_outputs\u001b[38;5;241m=\u001b[39m\u001b[38;5;28mself\u001b[39m\u001b[38;5;241m.\u001b[39m_num_outputs,\n\u001b[1;32m    384\u001b[0m         inputs\u001b[38;5;241m=\u001b[39margs,\n\u001b[1;32m    385\u001b[0m         attrs\u001b[38;5;241m=\u001b[39mattrs,\n\u001b[1;32m    386\u001b[0m         ctx\u001b[38;5;241m=\u001b[39mctx)\n\u001b[1;32m    387\u001b[0m   \u001b[38;5;28;01melse\u001b[39;00m:\n\u001b[1;32m    388\u001b[0m     outputs \u001b[38;5;241m=\u001b[39m execute\u001b[38;5;241m.\u001b[39mexecute_with_cancellation(\n\u001b[1;32m    389\u001b[0m         \u001b[38;5;28mstr\u001b[39m(\u001b[38;5;28mself\u001b[39m\u001b[38;5;241m.\u001b[39msignature\u001b[38;5;241m.\u001b[39mname),\n\u001b[1;32m    390\u001b[0m         num_outputs\u001b[38;5;241m=\u001b[39m\u001b[38;5;28mself\u001b[39m\u001b[38;5;241m.\u001b[39m_num_outputs,\n\u001b[0;32m   (...)\u001b[0m\n\u001b[1;32m    393\u001b[0m         ctx\u001b[38;5;241m=\u001b[39mctx,\n\u001b[1;32m    394\u001b[0m         cancellation_manager\u001b[38;5;241m=\u001b[39mcancellation_manager)\n",
      "File \u001b[0;32m~/anaconda3/envs/tensorflow/lib/python3.11/site-packages/tensorflow/python/eager/execute.py:52\u001b[0m, in \u001b[0;36mquick_execute\u001b[0;34m(op_name, num_outputs, inputs, attrs, ctx, name)\u001b[0m\n\u001b[1;32m     50\u001b[0m \u001b[38;5;28;01mtry\u001b[39;00m:\n\u001b[1;32m     51\u001b[0m   ctx\u001b[38;5;241m.\u001b[39mensure_initialized()\n\u001b[0;32m---> 52\u001b[0m   tensors \u001b[38;5;241m=\u001b[39m pywrap_tfe\u001b[38;5;241m.\u001b[39mTFE_Py_Execute(ctx\u001b[38;5;241m.\u001b[39m_handle, device_name, op_name,\n\u001b[1;32m     53\u001b[0m                                       inputs, attrs, num_outputs)\n\u001b[1;32m     54\u001b[0m \u001b[38;5;28;01mexcept\u001b[39;00m core\u001b[38;5;241m.\u001b[39m_NotOkStatusException \u001b[38;5;28;01mas\u001b[39;00m e:\n\u001b[1;32m     55\u001b[0m   \u001b[38;5;28;01mif\u001b[39;00m name \u001b[38;5;129;01mis\u001b[39;00m \u001b[38;5;129;01mnot\u001b[39;00m \u001b[38;5;28;01mNone\u001b[39;00m:\n",
      "\u001b[0;31mKeyboardInterrupt\u001b[0m: "
=======
     "ename": "FileNotFoundError",
     "evalue": "[Errno 2] No such file or directory: 'data//train'",
     "output_type": "error",
     "traceback": [
      "\u001b[0;31m---------------------------------------------------------------------------\u001b[0m",
      "\u001b[0;31mFileNotFoundError\u001b[0m                         Traceback (most recent call last)",
      "Cell \u001b[0;32mIn[1], line 45\u001b[0m\n\u001b[1;32m     42\u001b[0m val_datagen \u001b[38;5;241m=\u001b[39m ImageDataGenerator(rescale\u001b[38;5;241m=\u001b[39m\u001b[38;5;241m1.\u001b[39m\u001b[38;5;241m/\u001b[39m\u001b[38;5;241m255\u001b[39m)\n\u001b[1;32m     44\u001b[0m \u001b[38;5;66;03m# Load dataset\u001b[39;00m\n\u001b[0;32m---> 45\u001b[0m train_generator \u001b[38;5;241m=\u001b[39m train_datagen\u001b[38;5;241m.\u001b[39mflow_from_directory(\n\u001b[1;32m     46\u001b[0m     train_dir,\n\u001b[1;32m     47\u001b[0m     target_size\u001b[38;5;241m=\u001b[39mimg_size,\n\u001b[1;32m     48\u001b[0m     batch_size\u001b[38;5;241m=\u001b[39mbatch_size,\n\u001b[1;32m     49\u001b[0m     class_mode\u001b[38;5;241m=\u001b[39m\u001b[38;5;124m'\u001b[39m\u001b[38;5;124mbinary\u001b[39m\u001b[38;5;124m'\u001b[39m\n\u001b[1;32m     50\u001b[0m )\n\u001b[1;32m     52\u001b[0m val_generator \u001b[38;5;241m=\u001b[39m val_datagen\u001b[38;5;241m.\u001b[39mflow_from_directory(\n\u001b[1;32m     53\u001b[0m     val_dir,\n\u001b[1;32m     54\u001b[0m     target_size\u001b[38;5;241m=\u001b[39mimg_size,\n\u001b[1;32m     55\u001b[0m     batch_size\u001b[38;5;241m=\u001b[39mbatch_size,\n\u001b[1;32m     56\u001b[0m     class_mode\u001b[38;5;241m=\u001b[39m\u001b[38;5;124m'\u001b[39m\u001b[38;5;124mbinary\u001b[39m\u001b[38;5;124m'\u001b[39m\n\u001b[1;32m     57\u001b[0m )\n\u001b[1;32m     59\u001b[0m \u001b[38;5;66;03m# Build CNN model\u001b[39;00m\n",
      "File \u001b[0;32m~/anaconda3/envs/tensorflow/lib/python3.11/site-packages/keras/preprocessing/image.py:1648\u001b[0m, in \u001b[0;36mImageDataGenerator.flow_from_directory\u001b[0;34m(self, directory, target_size, color_mode, classes, class_mode, batch_size, shuffle, seed, save_to_dir, save_prefix, save_format, follow_links, subset, interpolation, keep_aspect_ratio)\u001b[0m\n\u001b[1;32m   1562\u001b[0m \u001b[38;5;28;01mdef\u001b[39;00m \u001b[38;5;21mflow_from_directory\u001b[39m(\n\u001b[1;32m   1563\u001b[0m     \u001b[38;5;28mself\u001b[39m,\n\u001b[1;32m   1564\u001b[0m     directory,\n\u001b[0;32m   (...)\u001b[0m\n\u001b[1;32m   1578\u001b[0m     keep_aspect_ratio\u001b[38;5;241m=\u001b[39m\u001b[38;5;28;01mFalse\u001b[39;00m,\n\u001b[1;32m   1579\u001b[0m ):\n\u001b[1;32m   1580\u001b[0m \u001b[38;5;250m    \u001b[39m\u001b[38;5;124;03m\"\"\"Takes the path to a directory & generates batches of augmented data.\u001b[39;00m\n\u001b[1;32m   1581\u001b[0m \n\u001b[1;32m   1582\u001b[0m \u001b[38;5;124;03m    Args:\u001b[39;00m\n\u001b[0;32m   (...)\u001b[0m\n\u001b[1;32m   1646\u001b[0m \u001b[38;5;124;03m            and `y` is a numpy array of corresponding labels.\u001b[39;00m\n\u001b[1;32m   1647\u001b[0m \u001b[38;5;124;03m    \"\"\"\u001b[39;00m\n\u001b[0;32m-> 1648\u001b[0m     \u001b[38;5;28;01mreturn\u001b[39;00m DirectoryIterator(\n\u001b[1;32m   1649\u001b[0m         directory,\n\u001b[1;32m   1650\u001b[0m         \u001b[38;5;28mself\u001b[39m,\n\u001b[1;32m   1651\u001b[0m         target_size\u001b[38;5;241m=\u001b[39mtarget_size,\n\u001b[1;32m   1652\u001b[0m         color_mode\u001b[38;5;241m=\u001b[39mcolor_mode,\n\u001b[1;32m   1653\u001b[0m         keep_aspect_ratio\u001b[38;5;241m=\u001b[39mkeep_aspect_ratio,\n\u001b[1;32m   1654\u001b[0m         classes\u001b[38;5;241m=\u001b[39mclasses,\n\u001b[1;32m   1655\u001b[0m         class_mode\u001b[38;5;241m=\u001b[39mclass_mode,\n\u001b[1;32m   1656\u001b[0m         data_format\u001b[38;5;241m=\u001b[39m\u001b[38;5;28mself\u001b[39m\u001b[38;5;241m.\u001b[39mdata_format,\n\u001b[1;32m   1657\u001b[0m         batch_size\u001b[38;5;241m=\u001b[39mbatch_size,\n\u001b[1;32m   1658\u001b[0m         shuffle\u001b[38;5;241m=\u001b[39mshuffle,\n\u001b[1;32m   1659\u001b[0m         seed\u001b[38;5;241m=\u001b[39mseed,\n\u001b[1;32m   1660\u001b[0m         save_to_dir\u001b[38;5;241m=\u001b[39msave_to_dir,\n\u001b[1;32m   1661\u001b[0m         save_prefix\u001b[38;5;241m=\u001b[39msave_prefix,\n\u001b[1;32m   1662\u001b[0m         save_format\u001b[38;5;241m=\u001b[39msave_format,\n\u001b[1;32m   1663\u001b[0m         follow_links\u001b[38;5;241m=\u001b[39mfollow_links,\n\u001b[1;32m   1664\u001b[0m         subset\u001b[38;5;241m=\u001b[39msubset,\n\u001b[1;32m   1665\u001b[0m         interpolation\u001b[38;5;241m=\u001b[39minterpolation,\n\u001b[1;32m   1666\u001b[0m         dtype\u001b[38;5;241m=\u001b[39m\u001b[38;5;28mself\u001b[39m\u001b[38;5;241m.\u001b[39mdtype,\n\u001b[1;32m   1667\u001b[0m     )\n",
      "File \u001b[0;32m~/anaconda3/envs/tensorflow/lib/python3.11/site-packages/keras/preprocessing/image.py:563\u001b[0m, in \u001b[0;36mDirectoryIterator.__init__\u001b[0;34m(self, directory, image_data_generator, target_size, color_mode, classes, class_mode, batch_size, shuffle, seed, data_format, save_to_dir, save_prefix, save_format, follow_links, subset, interpolation, keep_aspect_ratio, dtype)\u001b[0m\n\u001b[1;32m    561\u001b[0m \u001b[38;5;28;01mif\u001b[39;00m \u001b[38;5;129;01mnot\u001b[39;00m classes:\n\u001b[1;32m    562\u001b[0m     classes \u001b[38;5;241m=\u001b[39m []\n\u001b[0;32m--> 563\u001b[0m     \u001b[38;5;28;01mfor\u001b[39;00m subdir \u001b[38;5;129;01min\u001b[39;00m \u001b[38;5;28msorted\u001b[39m(os\u001b[38;5;241m.\u001b[39mlistdir(directory)):\n\u001b[1;32m    564\u001b[0m         \u001b[38;5;28;01mif\u001b[39;00m os\u001b[38;5;241m.\u001b[39mpath\u001b[38;5;241m.\u001b[39misdir(os\u001b[38;5;241m.\u001b[39mpath\u001b[38;5;241m.\u001b[39mjoin(directory, subdir)):\n\u001b[1;32m    565\u001b[0m             classes\u001b[38;5;241m.\u001b[39mappend(subdir)\n",
      "\u001b[0;31mFileNotFoundError\u001b[0m: [Errno 2] No such file or directory: 'data//train'"
>>>>>>> 881ebe39 (Added Transfer Learning model)
=======
     "output_type": "error",
     "traceback": [
      "\u001b[0;31m---------------------------------------------------------------------------\u001b[0m",
      "\u001b[0;31mKeyboardInterrupt\u001b[0m                         Traceback (most recent call last)",
      "Cell \u001b[0;32mIn[3], line 133\u001b[0m\n\u001b[1;32m    130\u001b[0m plt\u001b[38;5;241m.\u001b[39mshow()\n\u001b[1;32m    132\u001b[0m \u001b[38;5;66;03m# Evaluate the model\u001b[39;00m\n\u001b[0;32m--> 133\u001b[0m Y_pred \u001b[38;5;241m=\u001b[39m model\u001b[38;5;241m.\u001b[39mpredict(test_generator)\n\u001b[1;32m    134\u001b[0m y_pred \u001b[38;5;241m=\u001b[39m np\u001b[38;5;241m.\u001b[39mround(Y_pred)\n\u001b[1;32m    136\u001b[0m \u001b[38;5;66;03m# Confusion Matrix\u001b[39;00m\n",
      "File \u001b[0;32m~/anaconda3/envs/tensorflow/lib/python3.11/site-packages/keras/utils/traceback_utils.py:65\u001b[0m, in \u001b[0;36mfilter_traceback.<locals>.error_handler\u001b[0;34m(*args, **kwargs)\u001b[0m\n\u001b[1;32m     63\u001b[0m filtered_tb \u001b[38;5;241m=\u001b[39m \u001b[38;5;28;01mNone\u001b[39;00m\n\u001b[1;32m     64\u001b[0m \u001b[38;5;28;01mtry\u001b[39;00m:\n\u001b[0;32m---> 65\u001b[0m     \u001b[38;5;28;01mreturn\u001b[39;00m fn(\u001b[38;5;241m*\u001b[39margs, \u001b[38;5;241m*\u001b[39m\u001b[38;5;241m*\u001b[39mkwargs)\n\u001b[1;32m     66\u001b[0m \u001b[38;5;28;01mexcept\u001b[39;00m \u001b[38;5;167;01mException\u001b[39;00m \u001b[38;5;28;01mas\u001b[39;00m e:\n\u001b[1;32m     67\u001b[0m     filtered_tb \u001b[38;5;241m=\u001b[39m _process_traceback_frames(e\u001b[38;5;241m.\u001b[39m__traceback__)\n",
      "File \u001b[0;32m~/anaconda3/envs/tensorflow/lib/python3.11/site-packages/keras/engine/training.py:2382\u001b[0m, in \u001b[0;36mModel.predict\u001b[0;34m(self, x, batch_size, verbose, steps, callbacks, max_queue_size, workers, use_multiprocessing)\u001b[0m\n\u001b[1;32m   2380\u001b[0m \u001b[38;5;28;01mfor\u001b[39;00m step \u001b[38;5;129;01min\u001b[39;00m data_handler\u001b[38;5;241m.\u001b[39msteps():\n\u001b[1;32m   2381\u001b[0m     callbacks\u001b[38;5;241m.\u001b[39mon_predict_batch_begin(step)\n\u001b[0;32m-> 2382\u001b[0m     tmp_batch_outputs \u001b[38;5;241m=\u001b[39m \u001b[38;5;28mself\u001b[39m\u001b[38;5;241m.\u001b[39mpredict_function(iterator)\n\u001b[1;32m   2383\u001b[0m     \u001b[38;5;28;01mif\u001b[39;00m data_handler\u001b[38;5;241m.\u001b[39mshould_sync:\n\u001b[1;32m   2384\u001b[0m         context\u001b[38;5;241m.\u001b[39masync_wait()\n",
      "File \u001b[0;32m~/anaconda3/envs/tensorflow/lib/python3.11/site-packages/tensorflow/python/util/traceback_utils.py:150\u001b[0m, in \u001b[0;36mfilter_traceback.<locals>.error_handler\u001b[0;34m(*args, **kwargs)\u001b[0m\n\u001b[1;32m    148\u001b[0m filtered_tb \u001b[38;5;241m=\u001b[39m \u001b[38;5;28;01mNone\u001b[39;00m\n\u001b[1;32m    149\u001b[0m \u001b[38;5;28;01mtry\u001b[39;00m:\n\u001b[0;32m--> 150\u001b[0m   \u001b[38;5;28;01mreturn\u001b[39;00m fn(\u001b[38;5;241m*\u001b[39margs, \u001b[38;5;241m*\u001b[39m\u001b[38;5;241m*\u001b[39mkwargs)\n\u001b[1;32m    151\u001b[0m \u001b[38;5;28;01mexcept\u001b[39;00m \u001b[38;5;167;01mException\u001b[39;00m \u001b[38;5;28;01mas\u001b[39;00m e:\n\u001b[1;32m    152\u001b[0m   filtered_tb \u001b[38;5;241m=\u001b[39m _process_traceback_frames(e\u001b[38;5;241m.\u001b[39m__traceback__)\n",
      "File \u001b[0;32m~/anaconda3/envs/tensorflow/lib/python3.11/site-packages/tensorflow/python/eager/polymorphic_function/polymorphic_function.py:894\u001b[0m, in \u001b[0;36mFunction.__call__\u001b[0;34m(self, *args, **kwds)\u001b[0m\n\u001b[1;32m    891\u001b[0m compiler \u001b[38;5;241m=\u001b[39m \u001b[38;5;124m\"\u001b[39m\u001b[38;5;124mxla\u001b[39m\u001b[38;5;124m\"\u001b[39m \u001b[38;5;28;01mif\u001b[39;00m \u001b[38;5;28mself\u001b[39m\u001b[38;5;241m.\u001b[39m_jit_compile \u001b[38;5;28;01melse\u001b[39;00m \u001b[38;5;124m\"\u001b[39m\u001b[38;5;124mnonXla\u001b[39m\u001b[38;5;124m\"\u001b[39m\n\u001b[1;32m    893\u001b[0m \u001b[38;5;28;01mwith\u001b[39;00m OptionalXlaContext(\u001b[38;5;28mself\u001b[39m\u001b[38;5;241m.\u001b[39m_jit_compile):\n\u001b[0;32m--> 894\u001b[0m   result \u001b[38;5;241m=\u001b[39m \u001b[38;5;28mself\u001b[39m\u001b[38;5;241m.\u001b[39m_call(\u001b[38;5;241m*\u001b[39margs, \u001b[38;5;241m*\u001b[39m\u001b[38;5;241m*\u001b[39mkwds)\n\u001b[1;32m    896\u001b[0m new_tracing_count \u001b[38;5;241m=\u001b[39m \u001b[38;5;28mself\u001b[39m\u001b[38;5;241m.\u001b[39mexperimental_get_tracing_count()\n\u001b[1;32m    897\u001b[0m without_tracing \u001b[38;5;241m=\u001b[39m (tracing_count \u001b[38;5;241m==\u001b[39m new_tracing_count)\n",
      "File \u001b[0;32m~/anaconda3/envs/tensorflow/lib/python3.11/site-packages/tensorflow/python/eager/polymorphic_function/polymorphic_function.py:933\u001b[0m, in \u001b[0;36mFunction._call\u001b[0;34m(self, *args, **kwds)\u001b[0m\n\u001b[1;32m    930\u001b[0m \u001b[38;5;28mself\u001b[39m\u001b[38;5;241m.\u001b[39m_lock\u001b[38;5;241m.\u001b[39mrelease()\n\u001b[1;32m    931\u001b[0m \u001b[38;5;66;03m# In this case we have not created variables on the first call. So we can\u001b[39;00m\n\u001b[1;32m    932\u001b[0m \u001b[38;5;66;03m# run the first trace but we should fail if variables are created.\u001b[39;00m\n\u001b[0;32m--> 933\u001b[0m results \u001b[38;5;241m=\u001b[39m \u001b[38;5;28mself\u001b[39m\u001b[38;5;241m.\u001b[39m_variable_creation_fn(\u001b[38;5;241m*\u001b[39margs, \u001b[38;5;241m*\u001b[39m\u001b[38;5;241m*\u001b[39mkwds)\n\u001b[1;32m    934\u001b[0m \u001b[38;5;28;01mif\u001b[39;00m \u001b[38;5;28mself\u001b[39m\u001b[38;5;241m.\u001b[39m_created_variables \u001b[38;5;129;01mand\u001b[39;00m \u001b[38;5;129;01mnot\u001b[39;00m ALLOW_DYNAMIC_VARIABLE_CREATION:\n\u001b[1;32m    935\u001b[0m   \u001b[38;5;28;01mraise\u001b[39;00m \u001b[38;5;167;01mValueError\u001b[39;00m(\u001b[38;5;124m\"\u001b[39m\u001b[38;5;124mCreating variables on a non-first call to a function\u001b[39m\u001b[38;5;124m\"\u001b[39m\n\u001b[1;32m    936\u001b[0m                    \u001b[38;5;124m\"\u001b[39m\u001b[38;5;124m decorated with tf.function.\u001b[39m\u001b[38;5;124m\"\u001b[39m)\n",
      "File \u001b[0;32m~/anaconda3/envs/tensorflow/lib/python3.11/site-packages/tensorflow/python/eager/polymorphic_function/tracing_compiler.py:143\u001b[0m, in \u001b[0;36mTracingCompiler.__call__\u001b[0;34m(self, *args, **kwargs)\u001b[0m\n\u001b[1;32m    140\u001b[0m \u001b[38;5;28;01mwith\u001b[39;00m \u001b[38;5;28mself\u001b[39m\u001b[38;5;241m.\u001b[39m_lock:\n\u001b[1;32m    141\u001b[0m   (concrete_function,\n\u001b[1;32m    142\u001b[0m    filtered_flat_args) \u001b[38;5;241m=\u001b[39m \u001b[38;5;28mself\u001b[39m\u001b[38;5;241m.\u001b[39m_maybe_define_function(args, kwargs)\n\u001b[0;32m--> 143\u001b[0m \u001b[38;5;28;01mreturn\u001b[39;00m concrete_function\u001b[38;5;241m.\u001b[39m_call_flat(\n\u001b[1;32m    144\u001b[0m     filtered_flat_args, captured_inputs\u001b[38;5;241m=\u001b[39mconcrete_function\u001b[38;5;241m.\u001b[39mcaptured_inputs)\n",
      "File \u001b[0;32m~/anaconda3/envs/tensorflow/lib/python3.11/site-packages/tensorflow/python/eager/polymorphic_function/monomorphic_function.py:1757\u001b[0m, in \u001b[0;36mConcreteFunction._call_flat\u001b[0;34m(self, args, captured_inputs, cancellation_manager)\u001b[0m\n\u001b[1;32m   1753\u001b[0m possible_gradient_type \u001b[38;5;241m=\u001b[39m gradients_util\u001b[38;5;241m.\u001b[39mPossibleTapeGradientTypes(args)\n\u001b[1;32m   1754\u001b[0m \u001b[38;5;28;01mif\u001b[39;00m (possible_gradient_type \u001b[38;5;241m==\u001b[39m gradients_util\u001b[38;5;241m.\u001b[39mPOSSIBLE_GRADIENT_TYPES_NONE\n\u001b[1;32m   1755\u001b[0m     \u001b[38;5;129;01mand\u001b[39;00m executing_eagerly):\n\u001b[1;32m   1756\u001b[0m   \u001b[38;5;66;03m# No tape is watching; skip to running the function.\u001b[39;00m\n\u001b[0;32m-> 1757\u001b[0m   \u001b[38;5;28;01mreturn\u001b[39;00m \u001b[38;5;28mself\u001b[39m\u001b[38;5;241m.\u001b[39m_build_call_outputs(\u001b[38;5;28mself\u001b[39m\u001b[38;5;241m.\u001b[39m_inference_function\u001b[38;5;241m.\u001b[39mcall(\n\u001b[1;32m   1758\u001b[0m       ctx, args, cancellation_manager\u001b[38;5;241m=\u001b[39mcancellation_manager))\n\u001b[1;32m   1759\u001b[0m forward_backward \u001b[38;5;241m=\u001b[39m \u001b[38;5;28mself\u001b[39m\u001b[38;5;241m.\u001b[39m_select_forward_and_backward_functions(\n\u001b[1;32m   1760\u001b[0m     args,\n\u001b[1;32m   1761\u001b[0m     possible_gradient_type,\n\u001b[1;32m   1762\u001b[0m     executing_eagerly)\n\u001b[1;32m   1763\u001b[0m forward_function, args_with_tangents \u001b[38;5;241m=\u001b[39m forward_backward\u001b[38;5;241m.\u001b[39mforward()\n",
      "File \u001b[0;32m~/anaconda3/envs/tensorflow/lib/python3.11/site-packages/tensorflow/python/eager/polymorphic_function/monomorphic_function.py:381\u001b[0m, in \u001b[0;36m_EagerDefinedFunction.call\u001b[0;34m(self, ctx, args, cancellation_manager)\u001b[0m\n\u001b[1;32m    379\u001b[0m \u001b[38;5;28;01mwith\u001b[39;00m _InterpolateFunctionError(\u001b[38;5;28mself\u001b[39m):\n\u001b[1;32m    380\u001b[0m   \u001b[38;5;28;01mif\u001b[39;00m cancellation_manager \u001b[38;5;129;01mis\u001b[39;00m \u001b[38;5;28;01mNone\u001b[39;00m:\n\u001b[0;32m--> 381\u001b[0m     outputs \u001b[38;5;241m=\u001b[39m execute\u001b[38;5;241m.\u001b[39mexecute(\n\u001b[1;32m    382\u001b[0m         \u001b[38;5;28mstr\u001b[39m(\u001b[38;5;28mself\u001b[39m\u001b[38;5;241m.\u001b[39msignature\u001b[38;5;241m.\u001b[39mname),\n\u001b[1;32m    383\u001b[0m         num_outputs\u001b[38;5;241m=\u001b[39m\u001b[38;5;28mself\u001b[39m\u001b[38;5;241m.\u001b[39m_num_outputs,\n\u001b[1;32m    384\u001b[0m         inputs\u001b[38;5;241m=\u001b[39margs,\n\u001b[1;32m    385\u001b[0m         attrs\u001b[38;5;241m=\u001b[39mattrs,\n\u001b[1;32m    386\u001b[0m         ctx\u001b[38;5;241m=\u001b[39mctx)\n\u001b[1;32m    387\u001b[0m   \u001b[38;5;28;01melse\u001b[39;00m:\n\u001b[1;32m    388\u001b[0m     outputs \u001b[38;5;241m=\u001b[39m execute\u001b[38;5;241m.\u001b[39mexecute_with_cancellation(\n\u001b[1;32m    389\u001b[0m         \u001b[38;5;28mstr\u001b[39m(\u001b[38;5;28mself\u001b[39m\u001b[38;5;241m.\u001b[39msignature\u001b[38;5;241m.\u001b[39mname),\n\u001b[1;32m    390\u001b[0m         num_outputs\u001b[38;5;241m=\u001b[39m\u001b[38;5;28mself\u001b[39m\u001b[38;5;241m.\u001b[39m_num_outputs,\n\u001b[0;32m   (...)\u001b[0m\n\u001b[1;32m    393\u001b[0m         ctx\u001b[38;5;241m=\u001b[39mctx,\n\u001b[1;32m    394\u001b[0m         cancellation_manager\u001b[38;5;241m=\u001b[39mcancellation_manager)\n",
      "File \u001b[0;32m~/anaconda3/envs/tensorflow/lib/python3.11/site-packages/tensorflow/python/eager/execute.py:52\u001b[0m, in \u001b[0;36mquick_execute\u001b[0;34m(op_name, num_outputs, inputs, attrs, ctx, name)\u001b[0m\n\u001b[1;32m     50\u001b[0m \u001b[38;5;28;01mtry\u001b[39;00m:\n\u001b[1;32m     51\u001b[0m   ctx\u001b[38;5;241m.\u001b[39mensure_initialized()\n\u001b[0;32m---> 52\u001b[0m   tensors \u001b[38;5;241m=\u001b[39m pywrap_tfe\u001b[38;5;241m.\u001b[39mTFE_Py_Execute(ctx\u001b[38;5;241m.\u001b[39m_handle, device_name, op_name,\n\u001b[1;32m     53\u001b[0m                                       inputs, attrs, num_outputs)\n\u001b[1;32m     54\u001b[0m \u001b[38;5;28;01mexcept\u001b[39;00m core\u001b[38;5;241m.\u001b[39m_NotOkStatusException \u001b[38;5;28;01mas\u001b[39;00m e:\n\u001b[1;32m     55\u001b[0m   \u001b[38;5;28;01mif\u001b[39;00m name \u001b[38;5;129;01mis\u001b[39;00m \u001b[38;5;129;01mnot\u001b[39;00m \u001b[38;5;28;01mNone\u001b[39;00m:\n",
      "\u001b[0;31mKeyboardInterrupt\u001b[0m: "
>>>>>>> 05124c3b (Made some changes)
     ]
    }
   ],
   "source": [
    "import os\n",
    "import numpy as np\n",
<<<<<<< HEAD
<<<<<<< HEAD
    "import tensorflow as tf\n",
    "from tensorflow.keras.preprocessing.image import ImageDataGenerator\n",
    "from sklearn.metrics import classification_report, confusion_matrix\n",
    "import matplotlib.pyplot as plt\n",
    "from PIL import Image\n",
    "import math\n",
    "\n",
    "# Set random seed for reproducibility\n",
    "seed = 42\n",
    "np.random.seed(seed)\n",
    "tf.random.set_seed(seed)\n",
    "\n",
    "# Data directories\n",
    "base_dir = 'data'  # Adjust this to your actual base directory\n",
    "train_dir = os.path.join(base_dir, 'train')\n",
    "val_dir = os.path.join(base_dir, 'val')\n",
    "test_dir = os.path.join(base_dir, 'test')\n",
    "\n",
    "# Image parameters\n",
    "img_size = (256, 256)\n",
    "batch_size = 32\n",
    "\n",
    "# Function to load and preprocess images, handling potential errors\n",
    "def load_and_preprocess_image(image_path):\n",
    "    try:\n",
    "        img = Image.open(image_path)\n",
    "        img = img.resize(img_size)\n",
    "        img_array = np.array(img) / 255.0  # Normalize pixel values to [0, 1]\n",
    "        img_array = np.expand_dims(img_array, axis=0)  # Add batch dimension\n",
    "        return img_array\n",
    "    except Exception as e:\n",
    "        print(f\"Error loading image: {image_path}. Skipping...\")\n",
    "        return None\n",
    "\n",
    "# Data augmentation\n",
    "train_datagen = ImageDataGenerator(\n",
    "    rescale=1./255,\n",
    "    rotation_range=20,\n",
    "    width_shift_range=0.2,\n",
    "    height_shift_range=0.2,\n",
    "    shear_range=0.2,\n",
    "    zoom_range=0.2,\n",
    "    horizontal_flip=True,\n",
    "    fill_mode='nearest'\n",
=======
    "import matplotlib.pyplot as plt\n",
    "from sklearn.metrics import classification_report, confusion_matrix\n",
    "from tensorflow.keras.preprocessing.image import ImageDataGenerator\n",
    "from tensorflow.keras.models import Sequential\n",
    "from tensorflow.keras.layers import Conv2D, MaxPooling2D, Flatten, Dense, Dropout\n",
    "from tensorflow.keras.optimizers import Adam,SGD\n",
    "from tensorflow.keras import regularizers\n",
    "from tensorflow.keras.callbacks import ModelCheckpoint, EarlyStopping\n",
=======
>>>>>>> 05124c3b (Made some changes)
    "import tensorflow as tf\n",
    "from tensorflow.keras.preprocessing.image import ImageDataGenerator\n",
    "from sklearn.metrics import classification_report, confusion_matrix\n",
    "import matplotlib.pyplot as plt\n",
    "from PIL import Image\n",
    "import math\n",
    "\n",
    "# Set random seed for reproducibility\n",
    "seed = 42\n",
    "np.random.seed(seed)\n",
    "tf.random.set_seed(seed)\n",
    "\n",
    "# Data directories\n",
    "base_dir = 'data'  # Adjust this to your actual base directory\n",
    "train_dir = os.path.join(base_dir, 'train')\n",
    "val_dir = os.path.join(base_dir, 'val')\n",
    "test_dir = os.path.join(base_dir, 'test')\n",
    "\n",
    "# Image parameters\n",
    "img_size = (256, 256)\n",
    "batch_size = 32\n",
    "\n",
    "# Function to load and preprocess images, handling potential errors\n",
    "def load_and_preprocess_image(image_path):\n",
    "    try:\n",
    "        img = Image.open(image_path)\n",
    "        img = img.resize(img_size)\n",
    "        img_array = np.array(img) / 255.0  # Normalize pixel values to [0, 1]\n",
    "        img_array = np.expand_dims(img_array, axis=0)  # Add batch dimension\n",
    "        return img_array\n",
    "    except Exception as e:\n",
    "        print(f\"Error loading image: {image_path}. Skipping...\")\n",
    "        return None\n",
    "\n",
    "# Data augmentation\n",
    "train_datagen = ImageDataGenerator(\n",
    "    rescale=1./255,\n",
    "    rotation_range=20,\n",
    "    width_shift_range=0.2,\n",
    "    height_shift_range=0.2,\n",
    "    shear_range=0.2,\n",
    "    zoom_range=0.2,\n",
<<<<<<< HEAD
    "    horizontal_flip=True\n",
>>>>>>> 881ebe39 (Added Transfer Learning model)
=======
    "    horizontal_flip=True,\n",
    "    fill_mode='nearest'\n",
>>>>>>> 05124c3b (Made some changes)
    ")\n",
    "\n",
    "val_datagen = ImageDataGenerator(rescale=1./255)\n",
    "\n",
<<<<<<< HEAD
<<<<<<< HEAD
    "# Test data generator (only normalization, no data augmentation)\n",
    "test_datagen = ImageDataGenerator(rescale=1./255)\n",
    "\n",
    "# Data generators\n",
    "def custom_data_generator(directory, datagen, shuffle):\n",
    "    generator = datagen.flow_from_directory(\n",
    "        directory,\n",
    "        target_size=img_size,\n",
    "        batch_size=batch_size,\n",
    "        class_mode='binary',\n",
    "        shuffle=shuffle,\n",
    "        seed=seed\n",
    "    )\n",
    "\n",
    "    # Calculate the total number of batches\n",
    "    num_batches = math.ceil(generator.samples / batch_size)\n",
    "\n",
    "    while True:\n",
    "        try:\n",
    "            data, labels = next(generator)\n",
    "            yield data, labels\n",
    "        except Exception as e:\n",
    "            print(f\"Error in generator: {e}. Skipping batch...\")\n",
    "\n",
    "# Use custom generators\n",
    "train_generator = custom_data_generator(train_dir, train_datagen, shuffle=True)\n",
    "val_generator = custom_data_generator(val_dir, val_datagen, shuffle=False)\n",
    "test_generator = custom_data_generator(test_dir, test_datagen, shuffle=False)\n",
    "\n",
    "# CNN model with L1, L2 regularization, and dropout\n",
    "model = tf.keras.Sequential([\n",
    "    tf.keras.layers.Conv2D(32, (3, 3), activation='relu', input_shape=(256, 256, 3),\n",
    "                           kernel_regularizer=tf.keras.regularizers.l1_l2(l1=1e-5, l2=1e-4)),\n",
    "    tf.keras.layers.MaxPooling2D((2, 2)),\n",
    "    tf.keras.layers.Dropout(0.25),\n",
    "    \n",
    "    tf.keras.layers.Conv2D(64, (3, 3), activation='relu',\n",
    "                           kernel_regularizer=tf.keras.regularizers.l1_l2(l1=1e-5, l2=1e-4)),\n",
    "    tf.keras.layers.MaxPooling2D((2, 2)),\n",
    "    tf.keras.layers.Dropout(0.25),\n",
    "    \n",
    "    tf.keras.layers.Conv2D(128, (3, 3), activation='relu',\n",
    "                           kernel_regularizer=tf.keras.regularizers.l1_l2(l1=1e-5, l2=1e-4)),\n",
    "    tf.keras.layers.MaxPooling2D((2, 2)),\n",
    "    tf.keras.layers.Dropout(0.25),\n",
    "    \n",
    "    tf.keras.layers.Flatten(),\n",
    "    tf.keras.layers.Dense(128, activation='relu', \n",
    "                          kernel_regularizer=tf.keras.regularizers.l1_l2(l1=1e-5, l2=1e-4)),\n",
    "    tf.keras.layers.Dropout(0.5),\n",
    "    \n",
    "    tf.keras.layers.Dense(1, activation='sigmoid')\n",
    "])\n",
    "# Compile the model\n",
    "model.compile(optimizer='adam', loss='binary_crossentropy', metrics=['accuracy'])\n",
=======
    "# Load dataset\n",
    "train_generator = train_datagen.flow_from_directory(\n",
    "    train_dir,\n",
    "    target_size=img_size,\n",
    "    batch_size=batch_size,\n",
    "    class_mode='binary'\n",
    ")\n",
=======
    "# Test data generator (only normalization, no data augmentation)\n",
    "test_datagen = ImageDataGenerator(rescale=1./255)\n",
>>>>>>> 05124c3b (Made some changes)
    "\n",
    "# Data generators\n",
    "def custom_data_generator(directory, datagen, shuffle):\n",
    "    generator = datagen.flow_from_directory(\n",
    "        directory,\n",
    "        target_size=img_size,\n",
    "        batch_size=batch_size,\n",
    "        class_mode='binary',\n",
    "        shuffle=shuffle,\n",
    "        seed=seed\n",
    "    )\n",
    "\n",
    "    # Calculate the total number of batches\n",
    "    num_batches = math.ceil(generator.samples / batch_size)\n",
    "\n",
    "    while True:\n",
    "        try:\n",
    "            data, labels = next(generator)\n",
    "            yield data, labels\n",
    "        except Exception as e:\n",
    "            print(f\"Error in generator: {e}. Skipping batch...\")\n",
    "\n",
    "# Use custom generators\n",
    "train_generator = custom_data_generator(train_dir, train_datagen, shuffle=True)\n",
    "val_generator = custom_data_generator(val_dir, val_datagen, shuffle=False)\n",
    "test_generator = custom_data_generator(test_dir, test_datagen, shuffle=False)\n",
    "\n",
<<<<<<< HEAD
    "model.add(Flatten())\n",
    "\n",
    "# Add Dense layer with L2 regularization\n",
    "model.add(Dense(256, activation='relu', kernel_regularizer=regularizers.l2(0.01)))\n",
    "model.add(Dropout(0.5))\n",
    "\n",
    "# Add Dense layer with L2 regularization and sigmoid activation for binary classification\n",
    "model.add(Dense(1, activation='sigmoid', kernel_regularizer=regularizers.l2(0.01)))\n",
    "\n",
    "model.compile(optimizer=Adam(lr=0.0001), loss='binary_crossentropy', metrics=['accuracy'])\n",
    "\n",
    "# Model callbacks\n",
    "checkpoint = ModelCheckpoint('skin_cancer_model.h5', save_best_only=True)\n",
    "early_stopping = EarlyStopping(patience=10, restore_best_weights=True)\n",
>>>>>>> 881ebe39 (Added Transfer Learning model)
=======
    "# CNN model with L1, L2 regularization, and dropout\n",
    "model = tf.keras.Sequential([\n",
    "    tf.keras.layers.Conv2D(32, (3, 3), activation='relu', input_shape=(256, 256, 3),\n",
    "                           kernel_regularizer=tf.keras.regularizers.l1_l2(l1=1e-5, l2=1e-4)),\n",
    "    tf.keras.layers.MaxPooling2D((2, 2)),\n",
    "    tf.keras.layers.Dropout(0.25),\n",
    "    \n",
    "    tf.keras.layers.Conv2D(64, (3, 3), activation='relu',\n",
    "                           kernel_regularizer=tf.keras.regularizers.l1_l2(l1=1e-5, l2=1e-4)),\n",
    "    tf.keras.layers.MaxPooling2D((2, 2)),\n",
    "    tf.keras.layers.Dropout(0.25),\n",
    "    \n",
    "    tf.keras.layers.Conv2D(128, (3, 3), activation='relu',\n",
    "                           kernel_regularizer=tf.keras.regularizers.l1_l2(l1=1e-5, l2=1e-4)),\n",
    "    tf.keras.layers.MaxPooling2D((2, 2)),\n",
    "    tf.keras.layers.Dropout(0.25),\n",
    "    \n",
    "    tf.keras.layers.Flatten(),\n",
    "    tf.keras.layers.Dense(128, activation='relu', \n",
    "                          kernel_regularizer=tf.keras.regularizers.l1_l2(l1=1e-5, l2=1e-4)),\n",
    "    tf.keras.layers.Dropout(0.5),\n",
    "    \n",
    "    tf.keras.layers.Dense(1, activation='sigmoid')\n",
    "])\n",
    "# Compile the model\n",
    "model.compile(optimizer='adam', loss='binary_crossentropy', metrics=['accuracy'])\n",
>>>>>>> 05124c3b (Made some changes)
    "\n",
    "# Train the model\n",
    "history = model.fit(\n",
    "    train_generator,\n",
<<<<<<< HEAD
<<<<<<< HEAD
    "    steps_per_epoch=32,  # Use the calculated number of batches\n",
    "    epochs=10,\n",
    "    validation_data=val_generator,\n",
    "    validation_steps=32\n",
    ")\n",
    "\n",
    "# Plot training history\n",
    "plt.plot(history.history['accuracy'], label='accuracy')\n",
    "plt.plot(history.history['val_accuracy'], label='val_accuracy')\n",
    "plt.xlabel('Epoch')\n",
    "plt.ylabel('Accuracy')\n",
    "plt.ylim([0, 1])\n",
    "plt.legend(loc='lower right')\n",
    "plt.show()\n",
    "\n",
    "plt.plot(history.history['loss'], label='loss')\n",
    "plt.plot(history.history['val_loss'], label='val_loss')\n",
    "plt.xlabel('Epoch')\n",
    "plt.ylabel('Loss')\n",
    "plt.legend(loc='upper right')\n",
    "plt.show()\n",
    "\n",
    "# Evaluate the model\n",
    "Y_pred = model.predict(test_generator)\n",
    "y_pred = np.round(Y_pred)\n",
    "\n",
    "# Confusion Matrix\n",
    "conf_matrix = confusion_matrix(test_generator.classes, y_pred)\n",
    "print(\"Confusion Matrix:\")\n",
    "print(conf_matrix)\n",
    "\n",
    "# Classification Report\n",
    "class_report = classification_report(test_generator.classes, y_pred, target_names=train_generator.class_indices)\n",
    "print(\"Classification Report:\")\n",
    "print(class_report)\n",
    "\n",
    "# Test on a single image\n",
    "test_image_path = 'data/test_image.jpg'\n",
    "test_image = load_and_preprocess_image(test_image_path)\n",
    "\n",
    "if test_image is not None:\n",
    "    prediction = model.predict(test_image)\n",
    "    prediction_label = \"Malignant\" if prediction[0][0] > 0.5 else \"Benign\"\n",
    "    print(f\"Prediction: {prediction_label}\")\n"
   ]
  },
  {
   "cell_type": "code",
   "execution_count": null,
   "id": "bf3cd04d-3b9d-470b-804f-ce9b8a7197b9",
   "metadata": {},
   "outputs": [],
   "source": [
    "# # CNN model with L1, L2 regularization, and dropout\n",
    "# model = tf.keras.Sequential([\n",
    "#     tf.keras.layers.Conv2D(32, (3, 3), activation='relu', input_shape=(256, 256, 3),\n",
    "#                            kernel_regularizer=tf.keras.regularizers.l1_l2(l1=1e-5, l2=1e-4)),\n",
    "#     tf.keras.layers.MaxPooling2D((2, 2)),\n",
    "#     tf.keras.layers.Dropout(0.25),\n",
    "    \n",
    "#     tf.keras.layers.Conv2D(64, (3, 3), activation='relu',\n",
    "#                            kernel_regularizer=tf.keras.regularizers.l1_l2(l1=1e-5, l2=1e-4)),\n",
    "#     tf.keras.layers.MaxPooling2D((2, 2)),\n",
    "#     tf.keras.layers.Dropout(0.25),\n",
    "    \n",
    "#     tf.keras.layers.Conv2D(128, (3, 3), activation='relu',\n",
    "#                            kernel_regularizer=tf.keras.regularizers.l1_l2(l1=1e-5, l2=1e-4)),\n",
    "#     tf.keras.layers.MaxPooling2D((2, 2)),\n",
    "#     tf.keras.layers.Dropout(0.25),\n",
    "    \n",
    "#     tf.keras.layers.Flatten(),\n",
    "#     tf.keras.layers.Dense(128, activation='relu', \n",
    "#                           kernel_regularizer=tf.keras.regularizers.l1_l2(l1=1e-5, l2=1e-4)),\n",
    "#     tf.keras.layers.Dropout(0.5),\n",
    "    \n",
    "#     tf.keras.layers.Dense(1, activation='sigmoid')\n",
    "# ])"
=======
    "    steps_per_epoch=train_generator.samples // batch_size,\n",
    "    epochs=epochs,\n",
=======
    "    steps_per_epoch=32,  # Use the calculated number of batches\n",
    "    epochs=10,\n",
>>>>>>> 05124c3b (Made some changes)
    "    validation_data=val_generator,\n",
    "    validation_steps=32\n",
    ")\n",
    "\n",
    "# Plot training history\n",
    "plt.plot(history.history['accuracy'], label='accuracy')\n",
    "plt.plot(history.history['val_accuracy'], label='val_accuracy')\n",
    "plt.xlabel('Epoch')\n",
    "plt.ylabel('Accuracy')\n",
    "plt.ylim([0, 1])\n",
    "plt.legend(loc='lower right')\n",
    "plt.show()\n",
    "\n",
    "plt.plot(history.history['loss'], label='loss')\n",
    "plt.plot(history.history['val_loss'], label='val_loss')\n",
    "plt.xlabel('Epoch')\n",
    "plt.ylabel('Loss')\n",
    "plt.legend(loc='upper right')\n",
    "plt.show()\n",
    "\n",
    "# Evaluate the model\n",
    "Y_pred = model.predict(test_generator)\n",
    "y_pred = np.round(Y_pred)\n",
    "\n",
    "# Confusion Matrix\n",
    "conf_matrix = confusion_matrix(test_generator.classes, y_pred)\n",
    "print(\"Confusion Matrix:\")\n",
    "print(conf_matrix)\n",
    "\n",
    "# Classification Report\n",
    "class_report = classification_report(test_generator.classes, y_pred, target_names=train_generator.class_indices)\n",
    "print(\"Classification Report:\")\n",
    "print(class_report)\n",
    "\n",
    "# Test on a single image\n",
    "test_image_path = 'data/test_image.jpg'\n",
    "test_image = load_and_preprocess_image(test_image_path)\n",
    "\n",
<<<<<<< HEAD
    "# Test an image\n",
    "from tensorflow.keras.preprocessing import image\n",
    "\n",
    "def load_and_predict(image_path):\n",
    "    img = image.load_img(image_path, target_size=img_size)\n",
    "    img_array = image.img_to_array(img)\n",
    "    img_array = np.expand_dims(img_array, axis=0)\n",
    "    img_array /= 255.\n",
    "\n",
    "    prediction = model.predict(img_array)\n",
    "    if prediction[0] > 0.5:\n",
    "        print(\"Malignant\")\n",
    "    else:\n",
    "        print(\"Benign\")\n",
    "\n",
    "# Replace 'path/to/test_image.jpg' with the actual path to your test image\n",
    "test_image_path = 'Testing/benign2.jpg'\n",
    "load_and_predict(test_image_path)\n",
    "\n"
>>>>>>> 881ebe39 (Added Transfer Learning model)
=======
    "if test_image is not None:\n",
    "    prediction = model.predict(test_image)\n",
    "    prediction_label = \"Malignant\" if prediction[0][0] > 0.5 else \"Benign\"\n",
    "    print(f\"Prediction: {prediction_label}\")\n"
   ]
  },
  {
   "cell_type": "code",
   "execution_count": null,
   "id": "bf3cd04d-3b9d-470b-804f-ce9b8a7197b9",
   "metadata": {},
   "outputs": [],
   "source": [
    "# # CNN model with L1, L2 regularization, and dropout\n",
    "# model = tf.keras.Sequential([\n",
    "#     tf.keras.layers.Conv2D(32, (3, 3), activation='relu', input_shape=(256, 256, 3),\n",
    "#                            kernel_regularizer=tf.keras.regularizers.l1_l2(l1=1e-5, l2=1e-4)),\n",
    "#     tf.keras.layers.MaxPooling2D((2, 2)),\n",
    "#     tf.keras.layers.Dropout(0.25),\n",
    "    \n",
    "#     tf.keras.layers.Conv2D(64, (3, 3), activation='relu',\n",
    "#                            kernel_regularizer=tf.keras.regularizers.l1_l2(l1=1e-5, l2=1e-4)),\n",
    "#     tf.keras.layers.MaxPooling2D((2, 2)),\n",
    "#     tf.keras.layers.Dropout(0.25),\n",
    "    \n",
    "#     tf.keras.layers.Conv2D(128, (3, 3), activation='relu',\n",
    "#                            kernel_regularizer=tf.keras.regularizers.l1_l2(l1=1e-5, l2=1e-4)),\n",
    "#     tf.keras.layers.MaxPooling2D((2, 2)),\n",
    "#     tf.keras.layers.Dropout(0.25),\n",
    "    \n",
    "#     tf.keras.layers.Flatten(),\n",
    "#     tf.keras.layers.Dense(128, activation='relu', \n",
    "#                           kernel_regularizer=tf.keras.regularizers.l1_l2(l1=1e-5, l2=1e-4)),\n",
    "#     tf.keras.layers.Dropout(0.5),\n",
    "    \n",
    "#     tf.keras.layers.Dense(1, activation='sigmoid')\n",
    "# ])"
>>>>>>> 05124c3b (Made some changes)
   ]
  },
  {
   "cell_type": "code",
   "execution_count": null,
   "id": "bf257c50-2007-4b60-bd2c-31e3770bbefe",
   "metadata": {},
   "outputs": [],
   "source": [
    "# Save the trained model\n",
    "model.save('CNN_.keras')"
   ]
<<<<<<< HEAD
<<<<<<< HEAD
=======
  },
  {
   "cell_type": "code",
   "execution_count": null,
   "id": "931404e4-e434-4e58-9ea3-24020a3764a3",
   "metadata": {},
   "outputs": [],
   "source": []
>>>>>>> 881ebe39 (Added Transfer Learning model)
=======
>>>>>>> 05124c3b (Made some changes)
  }
 ],
 "metadata": {
  "kernelspec": {
   "display_name": "Python 3 (ipykernel)",
   "language": "python",
   "name": "python3"
  },
  "language_info": {
   "codemirror_mode": {
    "name": "ipython",
    "version": 3
   },
   "file_extension": ".py",
   "mimetype": "text/x-python",
   "name": "python",
   "nbconvert_exporter": "python",
   "pygments_lexer": "ipython3",
   "version": "3.11.5"
  }
 },
 "nbformat": 4,
 "nbformat_minor": 5
}
