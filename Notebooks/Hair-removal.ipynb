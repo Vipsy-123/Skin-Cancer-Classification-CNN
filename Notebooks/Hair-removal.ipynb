{
 "cells": [
  {
   "cell_type": "code",
<<<<<<< HEAD
<<<<<<< HEAD
   "execution_count": 1,
=======
   "execution_count": 2,
>>>>>>> 881ebe39 (Added Transfer Learning model)
=======
   "execution_count": 1,
>>>>>>> 05124c3b (Made some changes)
   "id": "755f06b5-9548-44c3-8280-07122488825d",
   "metadata": {
    "tags": []
   },
   "outputs": [
    {
     "name": "stdout",
     "output_type": "stream",
     "text": [
<<<<<<< HEAD
<<<<<<< HEAD
=======
>>>>>>> 05124c3b (Made some changes)
      "Skipping ISIC_0036026.JPG as it already exists in the output directory.\n",
      "Skipping ISIC_0035956.JPG as it already exists in the output directory.\n",
      "Skipping ISIC_0035986.JPG as it already exists in the output directory.\n",
      "Skipping ISIC_0036005.JPG as it already exists in the output directory.\n",
      "Skipping ISIC_0035964.JPG as it already exists in the output directory.\n",
      "Skipping ISIC_0035938.JPG as it already exists in the output directory.\n",
      "Skipping ISIC_0036012.JPG as it already exists in the output directory.\n",
      "Skipping ISIC_0035968.JPG as it already exists in the output directory.\n",
      "Skipping ISIC_0036029.JPG as it already exists in the output directory.\n",
      "Skipping ISIC_0036034.JPG as it already exists in the output directory.\n",
      "Skipping ISIC_0035992.JPG as it already exists in the output directory.\n",
      "Skipping ISIC_0035997.JPG as it already exists in the output directory.\n",
<<<<<<< HEAD
=======
      "(768, 1024)\n",
      "(768, 1024)\n",
      "(1024, 1024)\n",
      "(768, 1024)\n",
      "(768, 1024)\n",
      "(1024, 1024)\n",
      "(1536, 2048)\n",
      "(768, 1024)\n",
      "(768, 1024)\n",
      "(768, 1024)\n",
      "(768, 1024)\n",
      "(768, 1024)\n",
      "(768, 1024)\n",
>>>>>>> 881ebe39 (Added Transfer Learning model)
=======
>>>>>>> 05124c3b (Made some changes)
      "Processing complete.\n"
     ]
    }
   ],
   "source": [
    "import cv2\n",
    "import os\n",
<<<<<<< HEAD
<<<<<<< HEAD
    "from multiprocessing import Pool, cpu_count\n",
    "\n",
    "def process_image(filename):\n",
    "    input_path = os.path.join(input_directory, filename)\n",
    "    output_path = os.path.join(output_directory, filename)\n",
    "\n",
    "    # Check if the output file already exists, and skip processing if it does\n",
    "    if os.path.exists(output_path):\n",
    "        print(f\"Skipping {filename} as it already exists in the output directory.\")\n",
    "        return\n",
    "\n",
    "    image = cv2.imread(input_path)\n",
    "\n",
    "    if image is not None:\n",
    "        grayScale = cv2.cvtColor(image, cv2.COLOR_RGB2GRAY)\n",
    "        kernel = cv2.getStructuringElement(1, (17, 17))\n",
    "        blackhat = cv2.morphologyEx(grayScale, cv2.MORPH_BLACKHAT, kernel)\n",
    "        ret, thresh2 = cv2.threshold(blackhat, 10, 255, cv2.THRESH_BINARY)\n",
    "        dst = cv2.inpaint(image, thresh2, 1, cv2.INPAINT_TELEA)\n",
    "        cv2.imwrite(output_path, dst, [int(cv2.IMWRITE_JPEG_QUALITY), 90])\n",
    "    else:\n",
    "        print(f\"Error loading the image: {input_path}\")\n",
    "\n",
    "if __name__ == \"__main__\":\n",
    "    input_directory = 'raw-images/malignant4'\n",
    "    output_directory = 'processed-images/malignant'\n",
    "\n",
    "    # Number of processes to run in parallel\n",
    "    num_processes = min(cpu_count(), os.cpu_count())\n",
    "\n",
    "    with Pool(processes=num_processes - 2) as pool:\n",
    "        pool.map(process_image, os.listdir(input_directory))\n",
    "\n",
    "    print(\"Processing complete.\")\n"
=======
=======
    "from multiprocessing import Pool, cpu_count\n",
>>>>>>> 05124c3b (Made some changes)
    "\n",
    "def process_image(filename):\n",
    "    input_path = os.path.join(input_directory, filename)\n",
    "    output_path = os.path.join(output_directory, filename)\n",
    "\n",
    "    # Check if the output file already exists, and skip processing if it does\n",
    "    if os.path.exists(output_path):\n",
    "        print(f\"Skipping {filename} as it already exists in the output directory.\")\n",
    "        return\n",
    "\n",
    "    image = cv2.imread(input_path)\n",
    "\n",
    "    if image is not None:\n",
    "        grayScale = cv2.cvtColor(image, cv2.COLOR_RGB2GRAY)\n",
    "        kernel = cv2.getStructuringElement(1, (17, 17))\n",
    "        blackhat = cv2.morphologyEx(grayScale, cv2.MORPH_BLACKHAT, kernel)\n",
    "        ret, thresh2 = cv2.threshold(blackhat, 10, 255, cv2.THRESH_BINARY)\n",
    "        dst = cv2.inpaint(image, thresh2, 1, cv2.INPAINT_TELEA)\n",
    "        cv2.imwrite(output_path, dst, [int(cv2.IMWRITE_JPEG_QUALITY), 90])\n",
    "    else:\n",
    "        print(f\"Error loading the image: {input_path}\")\n",
    "\n",
    "if __name__ == \"__main__\":\n",
    "    input_directory = 'raw-images/malignant4'\n",
    "    output_directory = 'processed-images/malignant'\n",
    "\n",
    "    # Number of processes to run in parallel\n",
    "    num_processes = min(cpu_count(), os.cpu_count())\n",
    "\n",
    "    with Pool(processes=num_processes - 2) as pool:\n",
    "        pool.map(process_image, os.listdir(input_directory))\n",
    "\n",
<<<<<<< HEAD
    "            # Intensify the hair contours in preparation for the inpainting algorithm\n",
    "            ret, thresh2 = cv2.threshold(blackhat, 10, 255, cv2.THRESH_BINARY)\n",
    "            print(thresh2.shape)\n",
    "\n",
    "            # Inpaint the original image depending on the mask\n",
    "            dst = cv2.inpaint(image, thresh2, 1, cv2.INPAINT_TELEA)\n",
    "\n",
    "            # Display the inpainted image\n",
    "            # cv2.imshow(\"Inpainted Image\", dst)\n",
    "            # cv2.waitKey(0)\n",
    "\n",
    "            # Construct the full path of the output image\n",
    "            output_path = os.path.join(output_directory, '' + filename)\n",
    "\n",
    "            # Save the processed image to the output directory\n",
    "            cv2.imwrite(output_path, dst, [int(cv2.IMWRITE_JPEG_QUALITY), 90])\n",
    "        else:\n",
    "            print(f\"Error loading the image: {input_path}\")\n",
    "\n",
    "# Destroy all OpenCV windows\n",
    "cv2.destroyAllWindows()\n",
    "print(\"Processing complete.\")\n"
>>>>>>> 881ebe39 (Added Transfer Learning model)
=======
    "    print(\"Processing complete.\")\n"
>>>>>>> 05124c3b (Made some changes)
   ]
  }
 ],
 "metadata": {
  "kernelspec": {
   "display_name": "Python 3 (ipykernel)",
   "language": "python",
   "name": "python3"
  },
  "language_info": {
   "codemirror_mode": {
    "name": "ipython",
    "version": 3
   },
   "file_extension": ".py",
   "mimetype": "text/x-python",
   "name": "python",
   "nbconvert_exporter": "python",
   "pygments_lexer": "ipython3",
   "version": "3.11.5"
  }
 },
 "nbformat": 4,
 "nbformat_minor": 5
}
